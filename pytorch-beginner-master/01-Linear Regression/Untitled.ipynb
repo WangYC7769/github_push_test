{
 "cells": [
  {
   "cell_type": "code",
   "execution_count": 3,
   "metadata": {},
   "outputs": [
    {
     "data": {
      "image/png": "[encoded data removed]",
      "text/plain": [
       "<Figure size 432x288 with 1 Axes>"
      ]
     },
     "metadata": {},
     "output_type": "display_data"
    }
   ],
   "source": [
    "__author__ = 'SherlockLiao'\n",
    "\n",
    "import torch\n",
    "from torch import nn, optim\n",
    "from torch.autograd import Variable\n",
    "import numpy as np\n",
    "import matplotlib.pyplot as plt\n",
    "\n",
    "x_train = np.array([[3.3], [4.4], [5.5], [6.71], [6.93], [4.168],\n",
    "                    [9.779], [6.182], [7.59], [2.167], [7.042],\n",
    "                    [10.791], [5.313], [7.997], [3.1]], dtype=np.float32)\n",
    "\n",
    "y_train = np.array([[1.7], [2.76], [2.09], [3.19], [1.694], [1.573],\n",
    "                    [3.366], [2.596], [2.53], [1.221], [2.827],\n",
    "                    [3.465], [1.65], [2.904], [1.3]], dtype=np.float32)\n",
    "\n",
    "#print(x_train)\n",
    "plt.plot(x_train, y_train, 'ro', label='Original data')\n",
    "plt.show()\n",
    "#x_train.numpy()"
   ]
  },
  {
   "cell_type": "code",
   "execution_count": 4,
   "metadata": {},
   "outputs": [
    {
     "data": {
      "text/plain": [
       "torch.Size([15, 1])"
      ]
     },
     "execution_count": 4,
     "metadata": {},
     "output_type": "execute_result"
    }
   ],
   "source": [
    "x_train = torch.from_numpy(x_train)\n",
    "y_train = torch.from_numpy(y_train)\n",
    "\n",
    "x_train.size()"
   ]
  },
  {
   "cell_type": "code",
   "execution_count": 7,
   "metadata": {},
   "outputs": [],
   "source": [
    "# Linear Regression Model\n",
    "class LinearRegression(nn.Module):\n",
    "    def __init__(self):\n",
    "        super(LinearRegression, self).__init__()\n",
    "        self.linear = nn.Linear(1, 1, bias=True)  # input and output is 1 dimension\n",
    "\n",
    "    def forward(self, x):\n",
    "        x = self.linear(x)\n",
    "        #out = torch.sigmoid(x)\n",
    "        return x\n",
    "\n",
    "\n",
    "model = LinearRegression()\n",
    "# 定义loss和优化函数\n",
    "criterion = nn.MSELoss()\n",
    "#criterion = nn.L1Loss()\n",
    "optimizer = optim.SGD(model.parameters(), lr=1e-4)\n",
    "#optimizer = optim.ASGD(model.parameters(), lr=1e-4,t0=2)\n"
   ]
  },
  {
   "cell_type": "code",
   "execution_count": 8,
   "metadata": {},
   "outputs": [
    {
     "name": "stderr",
     "output_type": "stream",
     "text": [
      "D:\\Anaconda3\\envs\\torch\\lib\\site-packages\\ipykernel_launcher.py:17: UserWarning: invalid index of a 0-dim tensor. This will be an error in PyTorch 0.5. Use tensor.item() to convert a 0-dim tensor to a Python number\n"
     ]
    },
    {
     "name": "stdout",
     "output_type": "stream",
     "text": [
      "Epoch[20/1000], loss: 11.109529\n",
      "Epoch[40/1000], loss: 7.901546\n",
      "Epoch[60/1000], loss: 5.634321\n",
      "Epoch[80/1000], loss: 4.031970\n",
      "Epoch[100/1000], loss: 2.899517\n",
      "Epoch[120/1000], loss: 2.099161\n",
      "Epoch[140/1000], loss: 1.533513\n",
      "Epoch[160/1000], loss: 1.133744\n",
      "Epoch[180/1000], loss: 0.851209\n",
      "Epoch[200/1000], loss: 0.651529\n",
      "Epoch[220/1000], loss: 0.510405\n",
      "Epoch[240/1000], loss: 0.410667\n",
      "Epoch[260/1000], loss: 0.340177\n",
      "Epoch[280/1000], loss: 0.290358\n",
      "Epoch[300/1000], loss: 0.255148\n",
      "Epoch[320/1000], loss: 0.230263\n",
      "Epoch[340/1000], loss: 0.212676\n",
      "Epoch[360/1000], loss: 0.200245\n",
      "Epoch[380/1000], loss: 0.191460\n",
      "Epoch[400/1000], loss: 0.185250\n",
      "Epoch[420/1000], loss: 0.180862\n",
      "Epoch[440/1000], loss: 0.177759\n",
      "Epoch[460/1000], loss: 0.175566\n",
      "Epoch[480/1000], loss: 0.174016\n",
      "Epoch[500/1000], loss: 0.172920\n",
      "Epoch[520/1000], loss: 0.172145\n",
      "Epoch[540/1000], loss: 0.171597\n",
      "Epoch[560/1000], loss: 0.171209\n",
      "Epoch[580/1000], loss: 0.170935\n",
      "Epoch[600/1000], loss: 0.170740\n",
      "Epoch[620/1000], loss: 0.170602\n",
      "Epoch[640/1000], loss: 0.170504\n",
      "Epoch[660/1000], loss: 0.170435\n",
      "Epoch[680/1000], loss: 0.170385\n",
      "Epoch[700/1000], loss: 0.170350\n",
      "Epoch[720/1000], loss: 0.170325\n",
      "Epoch[740/1000], loss: 0.170306\n",
      "Epoch[760/1000], loss: 0.170293\n",
      "Epoch[780/1000], loss: 0.170283\n",
      "Epoch[800/1000], loss: 0.170275\n",
      "Epoch[820/1000], loss: 0.170270\n",
      "Epoch[840/1000], loss: 0.170265\n",
      "Epoch[860/1000], loss: 0.170262\n",
      "Epoch[880/1000], loss: 0.170259\n",
      "Epoch[900/1000], loss: 0.170257\n",
      "Epoch[920/1000], loss: 0.170255\n",
      "Epoch[940/1000], loss: 0.170253\n",
      "Epoch[960/1000], loss: 0.170251\n",
      "Epoch[980/1000], loss: 0.170249\n",
      "Epoch[1000/1000], loss: 0.170248\n"
     ]
    },
    {
     "data": {
      "image/png": "[encoded data removed]",
      "text/plain": [
       "<Figure size 432x288 with 1 Axes>"
      ]
     },
     "metadata": {},
     "output_type": "display_data"
    }
   ],
   "source": [
    "# 开始训练\n",
    "num_epochs = 1000\n",
    "for epoch in range(num_epochs):\n",
    "    inputs = Variable(x_train)\n",
    "    target = Variable(y_train)\n",
    "\n",
    "    # forward\n",
    "    out = model(inputs)\n",
    "    loss = criterion(out, target)\n",
    "    # backward\n",
    "    optimizer.zero_grad()\n",
    "    loss.backward()\n",
    "    optimizer.step()\n",
    "\n",
    "    if (epoch+1) % 20 == 0:\n",
    "        print('Epoch[{}/{}], loss: {:.6f}'\n",
    "              .format(epoch+1, num_epochs, loss.data[0]))\n",
    "        \"\"\"\n",
    "        model.eval()\n",
    "        predict1 = model(Variable(x_train))\n",
    "        predict1 = predict1.data.numpy()\n",
    "        w = (predict1[1] -  predict1[2]) / (x_train.numpy()[1] - x_train.numpy()[2])\n",
    "        b = predict1[1] - w *  x_train.numpy()[1]\n",
    "        print('w is {}, b is {}'\n",
    "              .format(w, b))\n",
    "        \"\"\"        \n",
    "\n",
    "model.eval()\n",
    "predict = model(Variable(x_train))\n",
    "predict = predict.data.numpy()\n",
    "\n",
    "plt.plot(x_train.numpy(), y_train.numpy(),'ro',  label='Original data')\n",
    "plt.plot(x_train.numpy(), predict, label='Fitting Line')\n",
    "\n",
    "#plt.plot(x_train, y_train, 'ro', label='Original data')\n",
    "#plt.plot(x_train, predict, label='Fitting Line')\n",
    "# 显示图例\n",
    "plt.legend() \n",
    "plt.show()\n",
    "\n",
    "# 保存模型\n",
    "torch.save(model.state_dict(), './linear.pth')"
   ]
  },
  {
   "cell_type": "code",
   "execution_count": 159,
   "metadata": {},
   "outputs": [
    {
     "name": "stdout",
     "output_type": "stream",
     "text": [
      "<generator object Module.parameters at 0x00000208C34D1B48>\n"
     ]
    }
   ],
   "source": [
    "print(model.parameters())"
   ]
  },
  {
   "cell_type": "code",
   "execution_count": 153,
   "metadata": {},
   "outputs": [
    {
     "name": "stdout",
     "output_type": "stream",
     "text": [
      "the output of model is : \n",
      "  [[0.8277257]\n",
      " [1.347719 ]\n",
      " [1.867712 ]\n",
      " [2.4397047]\n",
      " [2.543703 ]\n",
      " [1.2380476]\n",
      " [3.8904855]\n",
      " [2.1901078]\n",
      " [2.8556993]\n",
      " [0.2921328]\n",
      " [2.596648 ]\n",
      " [4.3688793]\n",
      " [1.7793133]\n",
      " [3.0480967]\n",
      " [0.7331814]]\n"
     ]
    }
   ],
   "source": [
    "print('the output of model is : \\n ', predict)"
   ]
  },
  {
   "cell_type": "code",
   "execution_count": 118,
   "metadata": {},
   "outputs": [],
   "source": [
    "predict = torch.from_numpy(predict)"
   ]
  },
  {
   "cell_type": "code",
   "execution_count": 119,
   "metadata": {},
   "outputs": [
    {
     "data": {
      "text/plain": [
       "torch.Size([15, 1])"
      ]
     },
     "execution_count": 119,
     "metadata": {},
     "output_type": "execute_result"
    }
   ],
   "source": [
    "predict.size()"
   ]
  },
  {
   "cell_type": "code",
   "execution_count": 123,
   "metadata": {},
   "outputs": [
    {
     "data": {
      "text/plain": [
       "[<matplotlib.lines.Line2D at 0x208ca84e390>]"
      ]
     },
     "execution_count": 123,
     "metadata": {},
     "output_type": "execute_result"
    },
    {
     "data": {
      "image/png": "[encoded data removed]",
      "text/plain": [
       "<Figure size 432x288 with 1 Axes>"
      ]
     },
     "metadata": {},
     "output_type": "display_data"
    }
   ],
   "source": [
    "plt.plot(x_train.numpy(), predict, label='Fitting Line')"
   ]
  },
  {
   "cell_type": "code",
   "execution_count": 124,
   "metadata": {},
   "outputs": [
    {
     "data": {
      "text/plain": [
       "tensor([[ 3.3000],\n",
       "        [ 4.4000],\n",
       "        [ 5.5000],\n",
       "        [ 6.7100],\n",
       "        [ 6.9300],\n",
       "        [ 4.1680],\n",
       "        [ 9.7790],\n",
       "        [ 6.1820],\n",
       "        [ 7.5900],\n",
       "        [ 2.1670],\n",
       "        [ 7.0420],\n",
       "        [10.7910],\n",
       "        [ 5.3130],\n",
       "        [ 7.9970],\n",
       "        [ 3.1000]])"
      ]
     },
     "execution_count": 124,
     "metadata": {},
     "output_type": "execute_result"
    }
   ],
   "source": [
    "x_train"
   ]
  },
  {
   "cell_type": "code",
   "execution_count": 131,
   "metadata": {},
   "outputs": [
    {
     "data": {
      "text/plain": [
       "array([4.4], dtype=float32)"
      ]
     },
     "execution_count": 131,
     "metadata": {},
     "output_type": "execute_result"
    }
   ],
   "source": [
    "x_train.numpy()[1]"
   ]
  },
  {
   "cell_type": "code",
   "execution_count": 130,
   "metadata": {},
   "outputs": [
    {
     "data": {
      "text/plain": [
       "array([1.7083275], dtype=float32)"
      ]
     },
     "execution_count": 130,
     "metadata": {},
     "output_type": "execute_result"
    }
   ],
   "source": [
    "predict[1]"
   ]
  },
  {
   "cell_type": "code",
   "execution_count": 132,
   "metadata": {},
   "outputs": [
    {
     "data": {
      "text/plain": [
       "array([0.33151066], dtype=float32)"
      ]
     },
     "execution_count": 132,
     "metadata": {},
     "output_type": "execute_result"
    }
   ],
   "source": [
    "w = (predict[1] -  predict[2])/ (x_train.numpy()[1] - x_train.numpy()[2])\n",
    "w"
   ]
  },
  {
   "cell_type": "code",
   "execution_count": 133,
   "metadata": {},
   "outputs": [
    {
     "data": {
      "text/plain": [
       "array([0.3315104], dtype=float32)"
      ]
     },
     "execution_count": 133,
     "metadata": {},
     "output_type": "execute_result"
    }
   ],
   "source": [
    "w = (predict[3] -  predict[2])/ (x_train.numpy()[3] - x_train.numpy()[2])\n",
    "w"
   ]
  },
  {
   "cell_type": "code",
   "execution_count": 134,
   "metadata": {},
   "outputs": [],
   "source": [
    "b = predict[1] - w *  x_train.numpy()[1]"
   ]
  },
  {
   "cell_type": "code",
   "execution_count": 135,
   "metadata": {},
   "outputs": [
    {
     "data": {
      "text/plain": [
       "array([0.24968171], dtype=float32)"
      ]
     },
     "execution_count": 135,
     "metadata": {},
     "output_type": "execute_result"
    }
   ],
   "source": [
    "b"
   ]
  },
  {
   "cell_type": "code",
   "execution_count": 136,
   "metadata": {},
   "outputs": [
    {
     "data": {
      "text/plain": [
       "array([0.24968207], dtype=float32)"
      ]
     },
     "execution_count": 136,
     "metadata": {},
     "output_type": "execute_result"
    }
   ],
   "source": [
    "b = predict[2] - w *  x_train.numpy()[2]\n",
    "b"
   ]
  },
  {
   "cell_type": "code",
   "execution_count": 156,
   "metadata": {},
   "outputs": [
    {
     "name": "stdout",
     "output_type": "stream",
     "text": [
      "torch.Size([128, 30])\n"
     ]
    }
   ],
   "source": [
    "import torch\n",
    "import torch.nn as nn\n",
    "from torch.autograd import Variable\n",
    "from torch.nn import utils as nn_utils\n",
    "\n",
    "m = nn.Linear(20, 30)\n",
    "input = torch.autograd.Variable(torch.randn(128, 20))\n",
    "output = m(input)\n",
    "print(output.size())"
   ]
  },
  {
   "cell_type": "code",
   "execution_count": 157,
   "metadata": {},
   "outputs": [
    {
     "data": {
      "text/plain": [
       "tensor([[-0.4942, -0.2277,  0.3337,  ...,  0.6595, -0.3534, -0.0037],\n",
       "        [ 0.5027,  0.5559, -0.0070,  ..., -1.1811,  0.6245, -0.9241],\n",
       "        [-0.3867,  0.5731,  0.8435,  ..., -0.0180, -0.0306, -0.2905],\n",
       "        ...,\n",
       "        [ 0.7291, -0.6323, -0.0140,  ..., -0.0288, -1.0081,  0.4171],\n",
       "        [ 0.5495,  0.2500, -0.9335,  ..., -0.3244,  0.1175, -0.1612],\n",
       "        [ 1.0201, -1.1333, -0.9755,  ..., -0.1990,  1.0307, -0.9102]],\n",
       "       grad_fn=<ThAddmmBackward>)"
      ]
     },
     "execution_count": 157,
     "metadata": {},
     "output_type": "execute_result"
    }
   ],
   "source": [
    "output"
   ]
  },
  {
   "cell_type": "code",
   "execution_count": null,
   "metadata": {},
   "outputs": [],
   "source": []
  }
 ],
 "metadata": {
  "kernelspec": {
   "display_name": "Python 3",
   "language": "python",
   "name": "python3"
  },
  "language_info": {
   "codemirror_mode": {
    "name": "ipython",
    "version": 3
   },
   "file_extension": ".py",
   "mimetype": "text/x-python",
   "name": "python",
   "nbconvert_exporter": "python",
   "pygments_lexer": "ipython3",
   "version": "3.6.6"
  }
 },
 "nbformat": 4,
 "nbformat_minor": 2
}
