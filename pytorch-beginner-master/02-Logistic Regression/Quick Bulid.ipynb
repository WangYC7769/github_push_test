{
 "cells": [
  {
   "cell_type": "code",
   "execution_count": 7,
   "metadata": {},
   "outputs": [
    {
     "name": "stdout",
     "output_type": "stream",
     "text": [
      "Net(\n",
      "  (hidden): Linear(in_features=1, out_features=10, bias=True)\n",
      "  (predict): Linear(in_features=10, out_features=1, bias=True)\n",
      ")\n",
      "Sequential(\n",
      "  (0): Linear(in_features=1, out_features=10, bias=True)\n",
      "  (1): Sigmoid()\n",
      "  (2): ReLU()\n",
      "  (3): Linear(in_features=10, out_features=1, bias=True)\n",
      ")\n"
     ]
    },
    {
     "data": {
      "text/plain": [
       "'\\nSequential (\\n  (0): Linear (1 -> 10)\\n  (1): ReLU ()\\n  (2): Linear (10 -> 1)\\n)\\n'"
      ]
     },
     "execution_count": 7,
     "metadata": {},
     "output_type": "execute_result"
    }
   ],
   "source": [
    "import torch\n",
    "import torch.nn.functional as F\n",
    "\n",
    "\n",
    "# replace following class code with an easy sequential network\n",
    "class Net(torch.nn.Module):\n",
    "    def __init__(self, n_feature, n_hidden, n_output):\n",
    "        super(Net, self).__init__()\n",
    "        self.hidden = torch.nn.Linear(n_feature, n_hidden)   # hidden layer\n",
    "        self.predict = torch.nn.Linear(n_hidden, n_output)   # output layer\n",
    "\n",
    "    def forward(self, x):\n",
    "        x = F.relu(self.hidden(x))      # activation function for hidden layer\n",
    "        x = self.predict(x)             # linear output\n",
    "        return x\n",
    "net1 = Net(1, 10, 1)\n",
    "\n",
    "# easy and fast way to build your network\n",
    "net2 = torch.nn.Sequential(\n",
    "    torch.nn.Linear(1, 10),\n",
    "    torch.nn.Sigmoid(),\n",
    "    torch.nn.ReLU(),\n",
    "    torch.nn.Linear(10, 1)\n",
    ")\n",
    "\n",
    "\n",
    "print(net1)     # net1 architecture\n",
    "\"\"\"\n",
    "Net (\n",
    "  (hidden): Linear (1 -> 10)\n",
    "  (predict): Linear (10 -> 1)\n",
    ")\n",
    "\"\"\"\n",
    "\n",
    "print(net2)     # net2 architecture\n",
    "\"\"\"\n",
    "Sequential (\n",
    "  (0): Linear (1 -> 10)\n",
    "  (1): ReLU ()\n",
    "  (2): Linear (10 -> 1)\n",
    ")\n",
    "\"\"\""
   ]
  },
  {
   "cell_type": "code",
   "execution_count": 8,
   "metadata": {},
   "outputs": [
    {
     "data": {
      "text/plain": [
       "OrderedDict([('hidden.weight', tensor([[ 0.7153],\n",
       "                      [ 0.0510],\n",
       "                      [ 0.3621],\n",
       "                      [-0.6678],\n",
       "                      [ 0.0536],\n",
       "                      [-0.9581],\n",
       "                      [-0.0574],\n",
       "                      [-0.4748],\n",
       "                      [ 0.3357],\n",
       "                      [-0.1591]])),\n",
       "             ('hidden.bias',\n",
       "              tensor([ 0.8063,  0.3253, -0.6627, -0.7550, -0.8225,  0.7133,  0.1340, -0.5609,\n",
       "                       0.3671,  0.6292])),\n",
       "             ('predict.weight',\n",
       "              tensor([[-0.2842, -0.2124,  0.1337,  0.1578,  0.0249,  0.2586,  0.1400, -0.3157,\n",
       "                       -0.1820, -0.2551]])),\n",
       "             ('predict.bias', tensor([0.1573]))])"
      ]
     },
     "execution_count": 8,
     "metadata": {},
     "output_type": "execute_result"
    }
   ],
   "source": [
    "net1.state_dict()"
   ]
  },
  {
   "cell_type": "code",
   "execution_count": 9,
   "metadata": {},
   "outputs": [
    {
     "data": {
      "text/plain": [
       "OrderedDict([('0.weight', tensor([[-0.3386],\n",
       "                      [ 0.8098],\n",
       "                      [-0.5990],\n",
       "                      [ 0.0822],\n",
       "                      [ 0.7084],\n",
       "                      [-0.5027],\n",
       "                      [-0.8980],\n",
       "                      [-0.2518],\n",
       "                      [-0.4367],\n",
       "                      [-0.2157]])),\n",
       "             ('0.bias',\n",
       "              tensor([-0.9610, -0.6107, -0.7457, -0.7213,  0.2133,  0.4227, -0.2169, -0.3068,\n",
       "                      -0.2993, -0.9576])),\n",
       "             ('3.weight',\n",
       "              tensor([[ 0.0540,  0.1327, -0.2190,  0.1100, -0.1897, -0.0151,  0.0789,  0.0441,\n",
       "                        0.0907, -0.0995]])),\n",
       "             ('3.bias', tensor([0.2436]))])"
      ]
     },
     "execution_count": 9,
     "metadata": {},
     "output_type": "execute_result"
    }
   ],
   "source": [
    "net2.state_dict()"
   ]
  },
  {
   "cell_type": "code",
   "execution_count": 16,
   "metadata": {},
   "outputs": [
    {
     "name": "stdout",
     "output_type": "stream",
     "text": [
      "0.weight\n",
      "0.bias\n",
      "3.weight\n",
      "3.bias\n"
     ]
    }
   ],
   "source": []
  },
  {
   "cell_type": "code",
   "execution_count": 17,
   "metadata": {},
   "outputs": [
    {
     "name": "stdout",
     "output_type": "stream",
     "text": [
      "hidden.weight\n",
      "hidden.bias\n",
      "predict.weight\n",
      "predict.bias\n"
     ]
    }
   ],
   "source": [
    "parameters = net1.state_dict()\n",
    "for k,v in parameters.items():\n",
    "    print(k)"
   ]
  },
  {
   "cell_type": "code",
   "execution_count": 18,
   "metadata": {},
   "outputs": [
    {
     "name": "stdout",
     "output_type": "stream",
     "text": [
      "0.weight\n",
      "0.bias\n",
      "3.weight\n",
      "3.bias\n"
     ]
    }
   ],
   "source": [
    "parameters = net2.state_dict()\n",
    "for k,v in parameters.items():\n",
    "    print(k)"
   ]
  },
  {
   "cell_type": "code",
   "execution_count": null,
   "metadata": {},
   "outputs": [],
   "source": []
  }
 ],
 "metadata": {
  "kernelspec": {
   "display_name": "Python 3",
   "language": "python",
   "name": "python3"
  },
  "language_info": {
   "codemirror_mode": {
    "name": "ipython",
    "version": 3
   },
   "file_extension": ".py",
   "mimetype": "text/x-python",
   "name": "python",
   "nbconvert_exporter": "python",
   "pygments_lexer": "ipython3",
   "version": "3.6.6"
  }
 },
 "nbformat": 4,
 "nbformat_minor": 2
}
