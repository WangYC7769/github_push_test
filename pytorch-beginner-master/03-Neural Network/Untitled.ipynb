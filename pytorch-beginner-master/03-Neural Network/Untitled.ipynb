{
 "cells": [
  {
   "cell_type": "code",
   "execution_count": 1,
   "metadata": {},
   "outputs": [
    {
     "name": "stdout",
     "output_type": "stream",
     "text": [
      "torch.Size([128, 30])\n"
     ]
    }
   ],
   "source": [
    "import torch\n",
    "from torch import nn, optim\n",
    "\n",
    "m = nn.Linear(20, 30)\n",
    "input = torch.randn(128, 20)\n",
    "output = m(input)\n",
    "print(output.size())"
   ]
  },
  {
   "cell_type": "code",
   "execution_count": 6,
   "metadata": {},
   "outputs": [
    {
     "data": {
      "text/plain": [
       "Linear(in_features=20, out_features=30, bias=True)"
      ]
     },
     "execution_count": 6,
     "metadata": {},
     "output_type": "execute_result"
    }
   ],
   "source": [
    "m"
   ]
  },
  {
   "cell_type": "code",
   "execution_count": 27,
   "metadata": {},
   "outputs": [],
   "source": [
    "m = nn.Conv1d(16, 33, 4, stride=2)\n",
    "input = torch.randn(20, 16, 50)\n",
    "output = m(input)"
   ]
  },
  {
   "cell_type": "code",
   "execution_count": 28,
   "metadata": {},
   "outputs": [
    {
     "data": {
      "text/plain": [
       "Conv1d(16, 33, kernel_size=(4,), stride=(2,))"
      ]
     },
     "execution_count": 28,
     "metadata": {},
     "output_type": "execute_result"
    }
   ],
   "source": [
    "m"
   ]
  },
  {
   "cell_type": "code",
   "execution_count": 29,
   "metadata": {},
   "outputs": [
    {
     "data": {
      "text/plain": [
       "torch.Size([20, 16, 50])"
      ]
     },
     "execution_count": 29,
     "metadata": {},
     "output_type": "execute_result"
    }
   ],
   "source": [
    "input.size()"
   ]
  },
  {
   "cell_type": "code",
   "execution_count": 30,
   "metadata": {},
   "outputs": [
    {
     "data": {
      "text/plain": [
       "torch.Size([20, 33, 24])"
      ]
     },
     "execution_count": 30,
     "metadata": {},
     "output_type": "execute_result"
    }
   ],
   "source": [
    "output.size()"
   ]
  },
  {
   "cell_type": "code",
   "execution_count": 8,
   "metadata": {},
   "outputs": [],
   "source": [
    "m = nn.Sigmoid()\n",
    "input = torch.randn(2)\n",
    "output = m(input)"
   ]
  },
  {
   "cell_type": "code",
   "execution_count": null,
   "metadata": {},
   "outputs": [],
   "source": [
    "m = nn.Conv2d(16, 33, 3, stride=2)\n",
    ">>> # non-square kernels and unequal stride and with padding\n",
    ">>> m = nn.Conv2d(16, 33, (3, 5), stride=(2, 1), padding=(4, 2))\n",
    ">>> # non-square kernels and unequal stride and with padding and dilation\n",
    ">>> m = nn.Conv2d(16, 33, (3, 5), stride=(2, 1), padding=(4, 2), dilation=(3, 1))\n",
    ">>> input = torch.randn(20, 16, 50, 100)\n",
    ">>> output = m(input)"
   ]
  },
  {
   "cell_type": "code",
   "execution_count": 17,
   "metadata": {},
   "outputs": [],
   "source": [
    "x = torch.rand(2,2,2)"
   ]
  },
  {
   "cell_type": "code",
   "execution_count": 18,
   "metadata": {},
   "outputs": [
    {
     "data": {
      "text/plain": [
       "tensor([[[0.9897, 0.8223],\n",
       "         [0.1808, 0.9612]],\n",
       "\n",
       "        [[0.3024, 0.3990],\n",
       "         [0.5685, 0.5640]]])"
      ]
     },
     "execution_count": 18,
     "metadata": {},
     "output_type": "execute_result"
    }
   ],
   "source": [
    "x"
   ]
  },
  {
   "cell_type": "code",
   "execution_count": 19,
   "metadata": {},
   "outputs": [
    {
     "data": {
      "text/plain": [
       "tensor([[0.3273, 0.3973],\n",
       "        [0.7176, 0.1065]])"
      ]
     },
     "execution_count": 19,
     "metadata": {},
     "output_type": "execute_result"
    }
   ],
   "source": [
    "x = torch.rand(2,2)\n",
    "x"
   ]
  },
  {
   "cell_type": "code",
   "execution_count": 42,
   "metadata": {},
   "outputs": [
    {
     "data": {
      "image/png": "[encoded data removed]",
      "text/plain": [
       "<Figure size 720x216 with 3 Axes>"
      ]
     },
     "metadata": {},
     "output_type": "display_data"
    }
   ],
   "source": [
    "import torch\n",
    "import matplotlib.pyplot as plt\n",
    "\n",
    "# torch.manual_seed(1)    # reproducible\n",
    "\n",
    "# fake data\n",
    "x = torch.unsqueeze(torch.linspace(-1, 1, 100), dim=1)  # x data (tensor), shape=(100, 1)\n",
    "y = x.pow(2) + 0.2*torch.rand(x.size())  # noisy y data (tensor), shape=(100, 1)\n",
    "\n",
    "# The code below is deprecated in Pytorch 0.4. Now, autograd directly supports tensors\n",
    "# x, y = Variable(x, requires_grad=False), Variable(y, requires_grad=False)\n",
    "\n",
    "\n",
    "def save():\n",
    "    # save net1\n",
    "    net1 = torch.nn.Sequential(\n",
    "        torch.nn.Linear(1, 10),\n",
    "        torch.nn.ReLU(),\n",
    "        torch.nn.Linear(10, 1)\n",
    "    )\n",
    "    optimizer = torch.optim.SGD(net1.parameters(), lr=0.5)\n",
    "    loss_func = torch.nn.MSELoss()\n",
    "\n",
    "    for t in range(100):\n",
    "        prediction = net1(x)\n",
    "        loss = loss_func(prediction, y)\n",
    "        optimizer.zero_grad()\n",
    "        loss.backward()\n",
    "        optimizer.step()\n",
    "\n",
    "    # plot result\n",
    "    plt.figure(1, figsize=(10, 3))\n",
    "    plt.subplot(131)\n",
    "    plt.title('Net1')\n",
    "    plt.scatter(x.data.numpy(), y.data.numpy())\n",
    "    plt.plot(x.data.numpy(), prediction.data.numpy(), 'r-', lw=5)\n",
    "\n",
    "    # 2 ways to save the net\n",
    "    torch.save(net1, 'net.pkl')  # save entire net\n",
    "    torch.save(net1.state_dict(), 'net_params.pkl')   # save only the parameters\n",
    "\n",
    "\n",
    "def restore_net():\n",
    "    # restore entire net1 to net2\n",
    "    net2 = torch.load('net.pkl')\n",
    "    prediction = net2(x)\n",
    "\n",
    "    # plot result\n",
    "    plt.subplot(132)\n",
    "    plt.title('Net2')\n",
    "    plt.scatter(x.data.numpy(), y.data.numpy())\n",
    "    plt.plot(x.data.numpy(), prediction.data.numpy(), 'r-', lw=5)\n",
    "\n",
    "\n",
    "def restore_params():\n",
    "    # restore only the parameters in net1 to net3\n",
    "    net3 = torch.nn.Sequential(\n",
    "        torch.nn.Linear(1, 10),\n",
    "        torch.nn.ReLU(),\n",
    "        torch.nn.Linear(10, 1)\n",
    "    )\n",
    "\n",
    "    # copy net1's parameters into net3\n",
    "    net3.load_state_dict(torch.load('net_params.pkl'))\n",
    "    prediction = net3(x)\n",
    "\n",
    "    # plot result\n",
    "    plt.subplot(133)\n",
    "    plt.title('Net3')\n",
    "    plt.scatter(x.data.numpy(), y.data.numpy())\n",
    "    plt.plot(x.data.numpy(), prediction.data.numpy(), 'r-', lw=5)\n",
    "    plt.show()\n",
    "\n",
    "# save net1\n",
    "save()\n",
    "\n",
    "# restore entire net (may slow)\n",
    "restore_net()\n",
    "\n",
    "# restore only the net parameters\n",
    "restore_params()"
   ]
  },
  {
   "cell_type": "code",
   "execution_count": 113,
   "metadata": {},
   "outputs": [
    {
     "data": {
      "image/png": "[encoded data removed]",
      "text/plain": [
       "<Figure size 432x288 with 1 Axes>"
      ]
     },
     "metadata": {},
     "output_type": "display_data"
    }
   ],
   "source": [
    "import torch\n",
    "import matplotlib.pyplot as plt\n",
    "\n",
    "x = torch.unsqueeze(torch.linspace(-1, 1, 100), dim=1)  # x data (tensor), shape=(100, 1)\n",
    "y = x.pow(2) + 0.2*torch.rand(x.size())                 # noisy y data (tensor), shape=(100, 1)\n",
    "\n",
    "# 画图\n",
    "#plt.scatter(x.data.numpy(), y.data.numpy())\n",
    "plt.scatter(x.numpy(), y.numpy())\n",
    "plt.show()"
   ]
  },
  {
   "cell_type": "code",
   "execution_count": 112,
   "metadata": {},
   "outputs": [
    {
     "name": "stdout",
     "output_type": "stream",
     "text": [
      "tensor([[-1.0000],\n",
      "        [-0.9798],\n",
      "        [-0.9596],\n",
      "        [-0.9394],\n",
      "        [-0.9192],\n",
      "        [-0.8990],\n",
      "        [-0.8788],\n",
      "        [-0.8586],\n",
      "        [-0.8384],\n",
      "        [-0.8182],\n",
      "        [-0.7980],\n",
      "        [-0.7778],\n",
      "        [-0.7576],\n",
      "        [-0.7374],\n",
      "        [-0.7172],\n",
      "        [-0.6970],\n",
      "        [-0.6768],\n",
      "        [-0.6566],\n",
      "        [-0.6364],\n",
      "        [-0.6162],\n",
      "        [-0.5960],\n",
      "        [-0.5758],\n",
      "        [-0.5556],\n",
      "        [-0.5354],\n",
      "        [-0.5152],\n",
      "        [-0.4949],\n",
      "        [-0.4747],\n",
      "        [-0.4545],\n",
      "        [-0.4343],\n",
      "        [-0.4141],\n",
      "        [-0.3939],\n",
      "        [-0.3737],\n",
      "        [-0.3535],\n",
      "        [-0.3333],\n",
      "        [-0.3131],\n",
      "        [-0.2929],\n",
      "        [-0.2727],\n",
      "        [-0.2525],\n",
      "        [-0.2323],\n",
      "        [-0.2121],\n",
      "        [-0.1919],\n",
      "        [-0.1717],\n",
      "        [-0.1515],\n",
      "        [-0.1313],\n",
      "        [-0.1111],\n",
      "        [-0.0909],\n",
      "        [-0.0707],\n",
      "        [-0.0505],\n",
      "        [-0.0303],\n",
      "        [-0.0101],\n",
      "        [ 0.0101],\n",
      "        [ 0.0303],\n",
      "        [ 0.0505],\n",
      "        [ 0.0707],\n",
      "        [ 0.0909],\n",
      "        [ 0.1111],\n",
      "        [ 0.1313],\n",
      "        [ 0.1515],\n",
      "        [ 0.1717],\n",
      "        [ 0.1919],\n",
      "        [ 0.2121],\n",
      "        [ 0.2323],\n",
      "        [ 0.2525],\n",
      "        [ 0.2727],\n",
      "        [ 0.2929],\n",
      "        [ 0.3131],\n",
      "        [ 0.3333],\n",
      "        [ 0.3535],\n",
      "        [ 0.3737],\n",
      "        [ 0.3939],\n",
      "        [ 0.4141],\n",
      "        [ 0.4343],\n",
      "        [ 0.4545],\n",
      "        [ 0.4747],\n",
      "        [ 0.4949],\n",
      "        [ 0.5152],\n",
      "        [ 0.5354],\n",
      "        [ 0.5556],\n",
      "        [ 0.5758],\n",
      "        [ 0.5960],\n",
      "        [ 0.6162],\n",
      "        [ 0.6364],\n",
      "        [ 0.6566],\n",
      "        [ 0.6768],\n",
      "        [ 0.6970],\n",
      "        [ 0.7172],\n",
      "        [ 0.7374],\n",
      "        [ 0.7576],\n",
      "        [ 0.7778],\n",
      "        [ 0.7980],\n",
      "        [ 0.8182],\n",
      "        [ 0.8384],\n",
      "        [ 0.8586],\n",
      "        [ 0.8788],\n",
      "        [ 0.8990],\n",
      "        [ 0.9192],\n",
      "        [ 0.9394],\n",
      "        [ 0.9596],\n",
      "        [ 0.9798],\n",
      "        [ 1.0000]])\n"
     ]
    }
   ],
   "source": [
    "x = torch.unsqueeze(torch.linspace(-1, 1, 100), dim=1)  # x data (tensor), shape=(100, 1)\n",
    "y = x.pow(2) + 0.2*torch.rand(x.size())                 # noisy y data (tensor), shape=(100, 1)\n",
    "print(x)"
   ]
  },
  {
   "cell_type": "code",
   "execution_count": 117,
   "metadata": {},
   "outputs": [
    {
     "name": "stdout",
     "output_type": "stream",
     "text": [
      "tensor([ 0.0000,  2.5000,  5.0000,  7.5000, 10.0000])\n",
      "tensor([ 0.0000,  2.5000,  5.0000,  7.5000, 10.0000])\n",
      "[ 0.   2.5  5.   7.5 10. ]\n",
      "tensor([  0.0000,   6.2500,  25.0000,  56.2500, 100.0000])\n"
     ]
    }
   ],
   "source": [
    "x = torch.linspace(0, 10, 5)\n",
    "print(x)\n",
    "print(x.data)\n",
    "print(x.data.numpy())\n",
    "x = x.pow(2)\n",
    "print(x.data)"
   ]
  },
  {
   "cell_type": "code",
   "execution_count": 89,
   "metadata": {},
   "outputs": [],
   "source": [
    "a = torch.Tensor([[1, 2, 3, 4],[5, 6, 7, 8]])\n",
    "b = torch.unsqueeze(a, 0)\n",
    "c = torch.unsqueeze(a, 1)\n",
    "d = torch.unsqueeze(a, -1)"
   ]
  },
  {
   "cell_type": "code",
   "execution_count": 90,
   "metadata": {},
   "outputs": [
    {
     "name": "stdout",
     "output_type": "stream",
     "text": [
      "tensor([[1., 2., 3., 4.],\n",
      "        [5., 6., 7., 8.]])\n",
      "torch.Size([2, 4])\n"
     ]
    }
   ],
   "source": [
    "print(a)\n",
    "print(a.size())"
   ]
  },
  {
   "cell_type": "code",
   "execution_count": 91,
   "metadata": {},
   "outputs": [
    {
     "name": "stdout",
     "output_type": "stream",
     "text": [
      "tensor([[[1., 2., 3., 4.],\n",
      "         [5., 6., 7., 8.]]])\n",
      "torch.Size([1, 2, 4])\n"
     ]
    }
   ],
   "source": [
    "print(b)\n",
    "print(b.size())"
   ]
  },
  {
   "cell_type": "code",
   "execution_count": 92,
   "metadata": {},
   "outputs": [
    {
     "name": "stdout",
     "output_type": "stream",
     "text": [
      "tensor([[[1., 2., 3., 4.]],\n",
      "\n",
      "        [[5., 6., 7., 8.]]])\n",
      "torch.Size([2, 1, 4])\n"
     ]
    }
   ],
   "source": [
    "print(c)\n",
    "print(c.size())"
   ]
  },
  {
   "cell_type": "code",
   "execution_count": 93,
   "metadata": {},
   "outputs": [
    {
     "name": "stdout",
     "output_type": "stream",
     "text": [
      "tensor([[[1.],\n",
      "         [2.],\n",
      "         [3.],\n",
      "         [4.]],\n",
      "\n",
      "        [[5.],\n",
      "         [6.],\n",
      "         [7.],\n",
      "         [8.]]])\n",
      "torch.Size([2, 4, 1])\n"
     ]
    }
   ],
   "source": [
    "print(d)\n",
    "print(d.size())"
   ]
  },
  {
   "cell_type": "code",
   "execution_count": null,
   "metadata": {},
   "outputs": [],
   "source": []
  }
 ],
 "metadata": {
  "kernelspec": {
   "display_name": "Python 3",
   "language": "python",
   "name": "python3"
  },
  "language_info": {
   "codemirror_mode": {
    "name": "ipython",
    "version": 3
   },
   "file_extension": ".py",
   "mimetype": "text/x-python",
   "name": "python",
   "nbconvert_exporter": "python",
   "pygments_lexer": "ipython3",
   "version": "3.6.6"
  }
 },
 "nbformat": 4,
 "nbformat_minor": 2
}
