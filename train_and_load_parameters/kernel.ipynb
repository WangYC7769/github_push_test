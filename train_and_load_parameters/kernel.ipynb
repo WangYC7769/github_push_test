{
 "cells": [
  {
   "cell_type": "code",
   "execution_count": 1,
   "metadata": {
    "_uuid": "133e20733cf1e703d5ddfae132611960b2fcad51"
   },
   "outputs": [],
   "source": [
    "%matplotlib inline"
   ]
  },
  {
   "cell_type": "code",
   "execution_count": 2,
   "metadata": {
    "_cell_guid": "79c7e3d0-c299-4dcb-8224-4455121ee9b0",
    "_uuid": "d629ff2d2480ee46fbb7e2d37f6b5fab8052498a"
   },
   "outputs": [],
   "source": [
    "import matplotlib.pyplot as plt\n",
    "import numpy as np\n",
    "import os\n",
    "import pandas as pd\n",
    "import torch\n",
    "import torch.nn as nn\n",
    "import torch.utils.data\n",
    "import torch.utils.data.sampler"
   ]
  },
  {
   "cell_type": "code",
   "execution_count": 3,
   "metadata": {
    "_uuid": "aa5f39195e258b3fdb5ed22cc6b576a3a9d3d0c6"
   },
   "outputs": [
    {
     "name": "stdout",
     "output_type": "stream",
     "text": [
      "['predict.csv', 'submission.csv', 'test.csv', 'train.csv']\n"
     ]
    }
   ],
   "source": [
    "print(os.listdir(\"C:/Users/dell/Desktop/mnist\"))"
   ]
  },
  {
   "cell_type": "markdown",
   "metadata": {
    "_uuid": "12d52c36a22383055947dbf10f57fcee66e81ee4"
   },
   "source": [
    "# Data"
   ]
  },
  {
   "cell_type": "code",
   "execution_count": 4,
   "metadata": {
    "_uuid": "61320e1cc5806f5e3126602ade8bcc9da23788d7"
   },
   "outputs": [],
   "source": [
    "class MNIST:\n",
    "    \"\"\"Dataset of 42000 28x28 grayscale images of handwritten characters\"\"\"\n",
    "\n",
    "    image_shape = (1, 28, 28)\n",
    "    num_classes = 10\n",
    "\n",
    "    @classmethod\n",
    "    def _get_images(cls, df):\n",
    "        x = df.values\n",
    "        x = x.reshape((-1, *cls.image_shape))\n",
    "        x = x.astype(np.float32)\n",
    "        x /= 255\n",
    "        return x\n",
    "\n",
    "    def __init__(self, input_file, train=True):\n",
    "\n",
    "        df = pd.read_csv(input_file)\n",
    "\n",
    "        if train:\n",
    "            self.labels = df['label'].values\n",
    "            df = df.drop(columns=['label'])\n",
    "\n",
    "        self.images = self._get_images(df)\n",
    "\n",
    "    def __len__(self):\n",
    "        return len(self.labels)\n",
    "\n",
    "    def __getitem__(self, idx):\n",
    "        if hasattr(self, 'labels'):\n",
    "            return self.images[idx, :], self.labels[idx]\n",
    "        else:\n",
    "            return self.images[idx, :]"
   ]
  },
  {
   "cell_type": "markdown",
   "metadata": {
    "_uuid": "00196e7a9246330ee6fdcc92c7d3fa2cb1033972"
   },
   "source": [
    "# Model"
   ]
  },
  {
   "cell_type": "code",
   "execution_count": 5,
   "metadata": {
    "_uuid": "e3a9dea24c3ceaad12627be0704cc3642735a753"
   },
   "outputs": [],
   "source": [
    "class DigitRecognizerCNN(nn.Module):\n",
    "    \"\"\"Simple convolutional network consisting of 2 convolution layers with\n",
    "    max-pooling followed by two fully-connected layers and a softmax output\n",
    "    layer\n",
    "    \"\"\"\n",
    "\n",
    "    def __init__(self, num_classes):\n",
    "\n",
    "        super().__init__()\n",
    "\n",
    "        self.features = nn.Sequential(\n",
    "            nn.Conv2d(1, 16, kernel_size=3, padding=1),\n",
    "            nn.ReLU(),\n",
    "            nn.MaxPool2d(kernel_size=3, stride=2, padding=1),\n",
    "            \n",
    "            nn.Conv2d(16, 32, kernel_size=3, padding=1),\n",
    "            nn.ReLU(),\n",
    "            nn.MaxPool2d(kernel_size=3, stride=2, padding=1))\n",
    "\n",
    "        self.classifier = nn.Sequential(\n",
    "            nn.Dropout(p=0.2),\n",
    "            nn.Linear(32 * 7 * 7, 784),\n",
    "            nn.ReLU(),\n",
    "            nn.Dropout(p=0.2),\n",
    "            nn.Linear(784, 784),\n",
    "            nn.ReLU(),\n",
    "            nn.Linear(784, num_classes))\n",
    "\n",
    "    def forward(self, X):\n",
    "        x = self.features(X)\n",
    "        x = x.view(x.size(0), 32 * 7 * 7)\n",
    "        x = self.classifier(x)\n",
    "        return x"
   ]
  },
  {
   "cell_type": "markdown",
   "metadata": {
    "_uuid": "8f456de382ef8869e8216490c85bf178007d08a0"
   },
   "source": [
    "# Training and Cross-validation"
   ]
  },
  {
   "cell_type": "code",
   "execution_count": 6,
   "metadata": {
    "_uuid": "5ea0ff963b1669ebbe054bfe140c08061c894d98"
   },
   "outputs": [],
   "source": [
    "def train(model,\n",
    "          loss_fn,\n",
    "          optimizer,\n",
    "          train_batches,\n",
    "          cv_batches,\n",
    "          device,\n",
    "          num_epochs=30,\n",
    "          status_every=5):\n",
    "\n",
    "    \"\"\"Train a model with a given loss function and optimizer by iterating over\n",
    "    mini-batches. Return training loss and cross-validation score for each\n",
    "    mini-batch\n",
    "    \"\"\"\n",
    "\n",
    "    losses_scores = []\n",
    "\n",
    "    for epoch in range(num_epochs):\n",
    "\n",
    "        epoch_losses = []\n",
    "\n",
    "        for images, labels in train_batches:\n",
    "\n",
    "            images = images.to(device)\n",
    "            labels = labels.to(device)\n",
    "\n",
    "            logits = model(images)\n",
    "            loss = loss_fn(logits, labels)\n",
    "\n",
    "            optimizer.zero_grad()\n",
    "            loss.backward()\n",
    "            optimizer.step()\n",
    "\n",
    "            epoch_losses.append(loss.item())\n",
    "\n",
    "        epoch_scores = []\n",
    "\n",
    "        for images, labels in cv_batches:\n",
    "\n",
    "            images = images.to(device)\n",
    "            labels = labels.to(device)\n",
    "\n",
    "            logits = model(images)\n",
    "            _, labels_pred = logits.max(dim=1)\n",
    "            score = (labels_pred == labels).float().mean()\n",
    "            epoch_scores.append(score.item())\n",
    "\n",
    "        losses_scores.append({'epoch': epoch,\n",
    "                              'loss': epoch_losses,\n",
    "                              'score': epoch_scores})\n",
    "\n",
    "        if epoch % status_every == 0 or epoch == num_epochs - 1:\n",
    "            print(f'epoch={epoch:g}, '\n",
    "                  f'loss={np.mean(epoch_losses):g}, '\n",
    "                  f'cv_score={np.mean(epoch_scores):g}, '\n",
    "                  f'cv_score_std={np.std(epoch_scores):g}')\n",
    "\n",
    "    return losses_scores"
   ]
  },
  {
   "cell_type": "code",
   "execution_count": 7,
   "metadata": {
    "_uuid": "8ca362004d7fc62466b18f9f024ac764ab313cef"
   },
   "outputs": [],
   "source": [
    "def train_model(train_batches,\n",
    "                cv_batches,\n",
    "                device,\n",
    "                num_epochs=30,\n",
    "                learning_rate=1e-4,\n",
    "                weight_decay=1e-3):\n",
    "    \n",
    "    \"\"\"Create and train a model with the specified hyperparameters\"\"\"\n",
    "\n",
    "    model = DigitRecognizerCNN(num_classes=MNIST.num_classes)\n",
    "    model = model.to(device)\n",
    "\n",
    "    loss_fn = nn.CrossEntropyLoss()\n",
    "\n",
    "    optimizer = torch.optim.Adam(model.parameters(),\n",
    "                                 lr=learning_rate,\n",
    "                                 weight_decay=weight_decay)\n",
    "\n",
    "    losses_scores = train(model,\n",
    "                          loss_fn,\n",
    "                          optimizer,\n",
    "                          train_batches,\n",
    "                          cv_batches,\n",
    "                          device,\n",
    "                          num_epochs=num_epochs)\n",
    "\n",
    "    return losses_scores, model"
   ]
  },
  {
   "cell_type": "code",
   "execution_count": 8,
   "metadata": {
    "_uuid": "e6edc8dde657c32ffc03a0879405d4cfe2a63482"
   },
   "outputs": [],
   "source": [
    "# 将训练数据的标签打乱, 取出前百分之95的数据, 剩下的为CV数据\n",
    "\n",
    "def get_train_cv_indices(num_examples, train_fraction, random_seed=42):\n",
    "    \"\"\"Return indices of training and cross-validation data, determined by\n",
    "    taking random subsets of the data with a specified fraction of examples to\n",
    "    use in constructing the training set\"\"\"\n",
    "    np.random.seed(random_seed)\n",
    "    indices = np.random.permutation(num_examples)\n",
    "    train_examples = int(train_fraction * num_examples)\n",
    "    train_indices = indices[:train_examples]\n",
    "    cv_indices = indices[train_examples:]\n",
    "    return train_indices, cv_indices\n",
    "\n",
    "\n",
    "\n",
    "def get_data_loader(data, indices, batch_size):\n",
    "    \"\"\"Return an iterator over mini-batches given a dataset, indices of a\n",
    "    subset of data to include in the batches, and batch size\"\"\"\n",
    "    sampler = torch.utils.data.sampler.SubsetRandomSampler(indices)\n",
    "    \n",
    "    return torch.utils.data.DataLoader(data, sampler=sampler, batch_size=batch_size)"
   ]
  },
  {
   "cell_type": "code",
   "execution_count": 9,
   "metadata": {
    "_uuid": "48b102b91e06adf829feb29342159eb423aa824c"
   },
   "outputs": [
    {
     "name": "stdout",
     "output_type": "stream",
     "text": [
      "Using CUDA\n",
      "Training on 39900 examples. Cross-validating with 2100 examples\n",
      "epoch=0, loss=1.34713, cv_score=0.824853, cv_score_std=0.0242489\n",
      "epoch=5, loss=0.157711, cv_score=0.963542, cv_score_std=0.0181359\n",
      "epoch=9, loss=0.119224, cv_score=0.973558, cv_score_std=0.00881524\n"
     ]
    }
   ],
   "source": [
    "if torch.cuda.is_available():\n",
    "    print('Using CUDA')\n",
    "    device = torch.device('cuda')\n",
    "else:\n",
    "    print('CUDA not available. Using CPU')\n",
    "    device = torch.device('cpu')\n",
    "\n",
    "data = MNIST('C:/Users/dell/Desktop/mnist/train.csv')\n",
    "\n",
    "train_indices, cv_indices = get_train_cv_indices(\n",
    "    len(data), train_fraction=0.95, random_seed=42)\n",
    "\n",
    "train_batches = get_data_loader(data, train_indices, batch_size=256)\n",
    "cv_batches = get_data_loader(data, cv_indices, batch_size=256)\n",
    "\n",
    "print(f'Training on {len(train_indices)} examples. '\n",
    "      f'Cross-validating with {len(cv_indices)} examples')\n",
    "\n",
    "losses_scores, model = train_model(train_batches,\n",
    "                                   cv_batches,\n",
    "                                   device,\n",
    "                                   num_epochs=10,\n",
    "                                   learning_rate=1e-4,\n",
    "                                   weight_decay=0.003)\n",
    "\n",
    "torch.save(model.state_dict(), './kernel_cnn.pth')"
   ]
  },
  {
   "cell_type": "code",
   "execution_count": 10,
   "metadata": {
    "_uuid": "76f877ac250fffd191d4a832af0f90d340b046c3"
   },
   "outputs": [
    {
     "data": {
      "image/png": "[encoded data removed]",
      "text/plain": [
       "<Figure size 792x504 with 1 Axes>"
      ]
     },
     "metadata": {},
     "output_type": "display_data"
    }
   ],
   "source": [
    "plt.figure(figsize=(11, 7))\n",
    "\n",
    "for metric in ['loss', 'score']:\n",
    "    (pd.concat({d['epoch']: pd.Series(d[metric], name=metric)\n",
    "                for d in losses_scores},\n",
    "               names=['epoch'])\n",
    "     .groupby('epoch').mean()\n",
    "     .plot(label=metric))\n",
    "\n",
    "plt.axhline(0, ls='--')\n",
    "plt.axhline(1, ls='--')\n",
    "plt.legend();"
   ]
  },
  {
   "cell_type": "markdown",
   "metadata": {
    "_uuid": "7b5bd8d7551af7ee3849784ba616404d6b8998bf"
   },
   "source": [
    "# Create submission file"
   ]
  },
  {
   "cell_type": "code",
   "execution_count": 11,
   "metadata": {
    "_uuid": "58bde860a2e096376832a1ec393dc4a51f0d56df"
   },
   "outputs": [],
   "source": [
    "test_data = MNIST('C:/Users/dell/Desktop/mnist/test.csv', train=False)\n",
    "images = torch.Tensor(test_data.images)\n",
    "logits = model.to('cpu')(images)\n",
    "_, y_pred = torch.max(logits, dim=1)"
   ]
  },
  {
   "cell_type": "code",
   "execution_count": 12,
   "metadata": {
    "_uuid": "24358288c131c47955d24accbb07d2dcbed32448"
   },
   "outputs": [
    {
     "data": {
      "text/html": [
       "<div>\n",
       "<style scoped>\n",
       "    .dataframe tbody tr th:only-of-type {\n",
       "        vertical-align: middle;\n",
       "    }\n",
       "\n",
       "    .dataframe tbody tr th {\n",
       "        vertical-align: top;\n",
       "    }\n",
       "\n",
       "    .dataframe thead th {\n",
       "        text-align: right;\n",
       "    }\n",
       "</style>\n",
       "<table border=\"1\" class=\"dataframe\">\n",
       "  <thead>\n",
       "    <tr style=\"text-align: right;\">\n",
       "      <th></th>\n",
       "      <th>ImageId</th>\n",
       "      <th>Label</th>\n",
       "    </tr>\n",
       "  </thead>\n",
       "  <tbody>\n",
       "    <tr>\n",
       "      <th>0</th>\n",
       "      <td>1</td>\n",
       "      <td>2</td>\n",
       "    </tr>\n",
       "    <tr>\n",
       "      <th>1</th>\n",
       "      <td>2</td>\n",
       "      <td>0</td>\n",
       "    </tr>\n",
       "    <tr>\n",
       "      <th>2</th>\n",
       "      <td>3</td>\n",
       "      <td>9</td>\n",
       "    </tr>\n",
       "    <tr>\n",
       "      <th>3</th>\n",
       "      <td>4</td>\n",
       "      <td>2</td>\n",
       "    </tr>\n",
       "    <tr>\n",
       "      <th>4</th>\n",
       "      <td>5</td>\n",
       "      <td>3</td>\n",
       "    </tr>\n",
       "    <tr>\n",
       "      <th>5</th>\n",
       "      <td>6</td>\n",
       "      <td>7</td>\n",
       "    </tr>\n",
       "    <tr>\n",
       "      <th>6</th>\n",
       "      <td>7</td>\n",
       "      <td>0</td>\n",
       "    </tr>\n",
       "    <tr>\n",
       "      <th>7</th>\n",
       "      <td>8</td>\n",
       "      <td>3</td>\n",
       "    </tr>\n",
       "    <tr>\n",
       "      <th>8</th>\n",
       "      <td>9</td>\n",
       "      <td>0</td>\n",
       "    </tr>\n",
       "    <tr>\n",
       "      <th>9</th>\n",
       "      <td>10</td>\n",
       "      <td>3</td>\n",
       "    </tr>\n",
       "  </tbody>\n",
       "</table>\n",
       "</div>"
      ],
      "text/plain": [
       "   ImageId  Label\n",
       "0        1      2\n",
       "1        2      0\n",
       "2        3      9\n",
       "3        4      2\n",
       "4        5      3\n",
       "5        6      7\n",
       "6        7      0\n",
       "7        8      3\n",
       "8        9      0\n",
       "9       10      3"
      ]
     },
     "execution_count": 12,
     "metadata": {},
     "output_type": "execute_result"
    }
   ],
   "source": [
    "submission = pd.DataFrame({'ImageId': np.arange(len(y_pred)) + 1, 'Label': y_pred})\n",
    "submission.head(10)"
   ]
  },
  {
   "cell_type": "code",
   "execution_count": 13,
   "metadata": {
    "_uuid": "358154414cff8c4e439c44d60d747373e8f6cb09"
   },
   "outputs": [],
   "source": [
    "submission.to_csv('C:/Users/dell/Desktop/mnist/submission.csv', index=False)"
   ]
  },
  {
   "cell_type": "code",
   "execution_count": 14,
   "metadata": {},
   "outputs": [
    {
     "data": {
      "text/plain": [
       "torch.Size([28000])"
      ]
     },
     "execution_count": 14,
     "metadata": {},
     "output_type": "execute_result"
    }
   ],
   "source": [
    "y_pred.shape"
   ]
  }
 ],
 "metadata": {
  "kernelspec": {
   "display_name": "Python 3",
   "language": "python",
   "name": "python3"
  },
  "language_info": {
   "codemirror_mode": {
    "name": "ipython",
    "version": 3
   },
   "file_extension": ".py",
   "mimetype": "text/x-python",
   "name": "python",
   "nbconvert_exporter": "python",
   "pygments_lexer": "ipython3",
   "version": "3.6.5"
  }
 },
 "nbformat": 4,
 "nbformat_minor": 1
}
